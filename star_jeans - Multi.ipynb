{
 "cells": [
  {
   "cell_type": "markdown",
   "id": "ec0189b9",
   "metadata": {},
   "source": [
    "# <center> O Problema do Negócio"
   ]
  },
  {
   "cell_type": "markdown",
   "id": "10954158",
   "metadata": {},
   "source": [
    "Ana e Júlia são duas brasileiras, amigas e sócias de empreendimento. Depois de vários\n",
    "negócio bem sucedidos, eles estão planejando entrar no mercado de moda dos USA como um\n",
    "modelo de negócio do tipo E-commerce.\n",
    "\n",
    "A idéia inicial é entrar no mercado com apenas um produto e para um público específico, no caso\n",
    "o produto seria calças Jenas para o público masculino. O objetivo é manter o custo de operação\n",
    "baixo e escalar a medida que forem conseguindo clientes.\n",
    "\n",
    "Porém, mesmo com o produto de entrada e a audiência definidos, as duas sócias não têm experiência\n",
    "nesse mercado de moda e portanto não sabem definir coisas básicas como preço, o tipo de calça e\n",
    "o material para a fabricação de cada peça.\n",
    "\n",
    "Assim, os dois sócios contrataram uma consultoria de Ciência de Dados para responder as seguintes\n",
    "perguntas: \n",
    "\n",
    "1. Qual o melhor preço de venda para as calças?\n",
    "\n",
    "2. Quantos tipos de calças e suas cores para o produto inicial?\n",
    "\n",
    "3. Quais as matérias-prima necessárias para confeccionar as calças?\n",
    "\n",
    "As principais concorrentes da empresa Start Jeans são as americadas H&M e Macys."
   ]
  },
  {
   "cell_type": "markdown",
   "id": "5dc7bbe9",
   "metadata": {},
   "source": [
    "##  <center> Extração de Dados em HTML"
   ]
  },
  {
   "cell_type": "code",
   "execution_count": 1,
   "id": "dcd50437",
   "metadata": {
    "ExecuteTime": {
     "end_time": "2021-12-09T14:50:26.762604Z",
     "start_time": "2021-12-09T14:50:22.601207Z"
    }
   },
   "outputs": [],
   "source": [
    "import math\n",
    "import requests\n",
    "\n",
    "import pandas    as pd\n",
    "import numpy     as np\n",
    "\n",
    "from datetime   import  datetime\n",
    "from bs4        import  BeautifulSoup\n",
    "\n",
    "pd.set_option('display.max_rows', None)"
   ]
  },
  {
   "cell_type": "code",
   "execution_count": 2,
   "id": "0c4bc6cc",
   "metadata": {
    "ExecuteTime": {
     "end_time": "2021-12-09T14:50:30.077750Z",
     "start_time": "2021-12-09T14:50:28.851727Z"
    }
   },
   "outputs": [],
   "source": [
    "url = 'https://www2.hm.com/en_us/men/products/jeans.html?page-size=108'\n",
    "\n",
    "headers = {'User-Agent': 'Mozilla/5.0'}\n",
    "\n",
    "page = requests.get (url, headers = headers)\n",
    "\n",
    "soup = BeautifulSoup(page.text, 'html.parser')\n",
    "\n",
    "products = soup.find('ul', class_ = 'products-listing small')\n",
    "\n",
    "product_list = products.find_all( 'article', class_ = 'hm-product-item')"
   ]
  },
  {
   "cell_type": "code",
   "execution_count": 3,
   "id": "8f70f4ac",
   "metadata": {
    "ExecuteTime": {
     "end_time": "2021-12-09T14:50:31.843638Z",
     "start_time": "2021-12-09T14:50:31.802960Z"
    }
   },
   "outputs": [],
   "source": [
    "#id\n",
    "product_id = [p.get ('data-articlecode') for p in product_list]\n",
    "\n",
    "#category\n",
    "product_cat = [p.get ('data-category') for p in product_list]\n",
    "\n",
    "#name\n",
    "product_list = products.find_all ('a', class_='link')\n",
    "product_name = [p.get_text() for p in product_list]\n",
    "\n",
    "#price\n",
    "product_list = products.find_all ('span', class_ = 'price regular')\n",
    "product_price = [p.get_text() for p in product_list]"
   ]
  },
  {
   "cell_type": "code",
   "execution_count": 4,
   "id": "192717c1",
   "metadata": {
    "ExecuteTime": {
     "end_time": "2021-12-09T14:50:35.247986Z",
     "start_time": "2021-12-09T14:50:35.213751Z"
    },
    "scrolled": false
   },
   "outputs": [],
   "source": [
    "data = pd.DataFrame ([product_id, product_cat, product_name, product_price ]).T\n",
    "data.columns = ['product_id', 'product_cat', 'product_name', 'product_price']\n",
    "\n",
    "#scrapy datetime\n",
    "\n",
    "data ['scrapy_datetime'] = datetime.now ().strftime ('%Y-%m-%d %H:%S')"
   ]
  },
  {
   "cell_type": "markdown",
   "id": "8fa93f4f",
   "metadata": {},
   "source": [
    "# <center> Prática III e IV"
   ]
  },
  {
   "cell_type": "code",
   "execution_count": 9,
   "id": "3b24a585",
   "metadata": {
    "ExecuteTime": {
     "end_time": "2021-12-09T14:55:33.652625Z",
     "start_time": "2021-12-09T14:54:42.443146Z"
    },
    "scrolled": true
   },
   "outputs": [],
   "source": [
    "headers = {'User-Agent': 'Mozilla/5.0'}\n",
    "\n",
    "#empty dataframe\n",
    "\n",
    "df_details = pd.DataFrame()\n",
    "\n",
    "#unique columns for all products\n",
    "aux = []\n",
    "\n",
    "#all cols\n",
    "cols = ['Art. No.', 'Composition', 'Fit', 'More sustainable materials', 'Size']\n",
    "df_pattern = pd.DataFrame (columns = cols)\n",
    "\n",
    "for i in range (len (data)):\n",
    "\n",
    "    # API Requests\n",
    "\n",
    "    url = 'https://www2.hm.com/en_us/productpage.' + data.loc[i, 'product_id'] + '.html'\n",
    "\n",
    "    page = requests.get (url, headers = headers)\n",
    "\n",
    "    #BeautifulSoup\n",
    "\n",
    "    soup = BeautifulSoup(page.text, 'html.parser')\n",
    " \n",
    "    ##################################### color name #######################################\n",
    "    \n",
    "    product_list = soup.find_all( 'a', class_='filter-option miniature' )\n",
    "    color_name = [p.get( 'data-color' ) for p in product_list]\n",
    "\n",
    "    df_color = pd.DataFrame( [product_id, color_name] ).T\n",
    "    df_color.columns = ['product_id', 'color_name']\n",
    "    \n",
    "    # generate style id + color id\n",
    "    df_color['style_id'] = df_color['product_id'].apply( lambda x: x[:-3] )\n",
    "    df_color['color_id'] = df_color['product_id'].apply( lambda x: x[-3:] )\n",
    "    \n",
    "    ###################################### composition #######################################\n",
    "\n",
    "    product_composition_list = soup.find_all('div', class_ = 'pdp-description-list-item')\n",
    "\n",
    "    product_composition = [list(filter(None, p.get_text().split('\\n'))) for p in product_composition_list]\n",
    "\n",
    "    # Rename Dataframe\n",
    "\n",
    "    df_composition = pd.DataFrame (product_composition).T\n",
    "    df_composition.columns = df_composition.iloc[0]\n",
    "\n",
    "    #delete first row and Fill None\n",
    "\n",
    "    df_composition = df_composition.iloc[1:].fillna (method = 'ffill')\n",
    "    \n",
    "    #garantee the same number os columns\n",
    "    \n",
    "    df_composition = pd.concat([df_pattern, df_composition], axis = 0)\n",
    "\n",
    "    #generate style id + color id\n",
    "    df_composition['style_id'] = df_composition['Art. No.'].apply( lambda x: x[:-3])\n",
    "    df_composition['color_id'] = df_composition['Art. No.'].apply( lambda x: x[-3:])\n",
    "    \n",
    "    aux = aux + df_composition.columns.tolist()\n",
    "\n",
    "    ######################################### Merge #######################################\n",
    "\n",
    "    data_sku = pd.merge (df_color, df_composition[['style_id', 'Fit', 'Composition', 'More sustainable materials', 'Size']], how = 'left', on = 'style_id' )\n",
    "    \n",
    "    df_details = pd.concat([df_details, data_sku], axis = 0)\n",
    "\n",
    "    data['style_id'] = data['product_id'].apply( lambda x: x[:-3] )\n",
    "\n",
    "    data['color_id'] = data['product_id'].apply( lambda x: x[-3:] )\n",
    "\n",
    "    data_raw = pd.merge( data, df_details[['style_id', 'color_name', 'Fit','Composition', 'Size', 'More sustainable materials']],how='left', on='style_id' )\n"
   ]
  },
  {
   "cell_type": "code",
   "execution_count": 10,
   "id": "f090de38",
   "metadata": {
    "ExecuteTime": {
     "end_time": "2021-12-09T14:56:16.100028Z",
     "start_time": "2021-12-09T14:56:16.073256Z"
    }
   },
   "outputs": [
    {
     "data": {
      "text/html": [
       "<div>\n",
       "<style scoped>\n",
       "    .dataframe tbody tr th:only-of-type {\n",
       "        vertical-align: middle;\n",
       "    }\n",
       "\n",
       "    .dataframe tbody tr th {\n",
       "        vertical-align: top;\n",
       "    }\n",
       "\n",
       "    .dataframe thead th {\n",
       "        text-align: right;\n",
       "    }\n",
       "</style>\n",
       "<table border=\"1\" class=\"dataframe\">\n",
       "  <thead>\n",
       "    <tr style=\"text-align: right;\">\n",
       "      <th></th>\n",
       "      <th>product_id</th>\n",
       "      <th>product_cat</th>\n",
       "      <th>product_name</th>\n",
       "      <th>product_price</th>\n",
       "      <th>scrapy_datetime</th>\n",
       "      <th>style_id</th>\n",
       "      <th>color_id</th>\n",
       "      <th>color_name</th>\n",
       "      <th>Fit</th>\n",
       "      <th>Composition</th>\n",
       "      <th>Size</th>\n",
       "      <th>More sustainable materials</th>\n",
       "    </tr>\n",
       "  </thead>\n",
       "  <tbody>\n",
       "    <tr>\n",
       "      <th>0</th>\n",
       "      <td>0985197001</td>\n",
       "      <td>men_jeans_slim</td>\n",
       "      <td>Slim Jeans</td>\n",
       "      <td>$ 19.99</td>\n",
       "      <td>2021-12-09 11:35</td>\n",
       "      <td>0985197</td>\n",
       "      <td>001</td>\n",
       "      <td>Midnight blue</td>\n",
       "      <td>Slim fit</td>\n",
       "      <td>Pocket lining: Cotton 100%</td>\n",
       "      <td>The model is 189cm/6'2\" and wears a size 32/32</td>\n",
       "      <td>NaN</td>\n",
       "    </tr>\n",
       "    <tr>\n",
       "      <th>1</th>\n",
       "      <td>0985197001</td>\n",
       "      <td>men_jeans_slim</td>\n",
       "      <td>Slim Jeans</td>\n",
       "      <td>$ 19.99</td>\n",
       "      <td>2021-12-09 11:35</td>\n",
       "      <td>0985197</td>\n",
       "      <td>001</td>\n",
       "      <td>Midnight blue</td>\n",
       "      <td>Slim fit</td>\n",
       "      <td>Shell: Cotton 98%, Spandex 2%</td>\n",
       "      <td>The model is 189cm/6'2\" and wears a size 32/32</td>\n",
       "      <td>NaN</td>\n",
       "    </tr>\n",
       "    <tr>\n",
       "      <th>2</th>\n",
       "      <td>0985197001</td>\n",
       "      <td>men_jeans_slim</td>\n",
       "      <td>Slim Jeans</td>\n",
       "      <td>$ 19.99</td>\n",
       "      <td>2021-12-09 11:35</td>\n",
       "      <td>0985197</td>\n",
       "      <td>001</td>\n",
       "      <td>None</td>\n",
       "      <td>Slim fit</td>\n",
       "      <td>Pocket lining: Cotton 100%</td>\n",
       "      <td>The model is 189cm/6'2\" and wears a size 32/32</td>\n",
       "      <td>NaN</td>\n",
       "    </tr>\n",
       "    <tr>\n",
       "      <th>3</th>\n",
       "      <td>0985197001</td>\n",
       "      <td>men_jeans_slim</td>\n",
       "      <td>Slim Jeans</td>\n",
       "      <td>$ 19.99</td>\n",
       "      <td>2021-12-09 11:35</td>\n",
       "      <td>0985197</td>\n",
       "      <td>001</td>\n",
       "      <td>None</td>\n",
       "      <td>Slim fit</td>\n",
       "      <td>Shell: Cotton 98%, Spandex 2%</td>\n",
       "      <td>The model is 189cm/6'2\" and wears a size 32/32</td>\n",
       "      <td>NaN</td>\n",
       "    </tr>\n",
       "    <tr>\n",
       "      <th>4</th>\n",
       "      <td>0985197001</td>\n",
       "      <td>men_jeans_slim</td>\n",
       "      <td>Slim Jeans</td>\n",
       "      <td>$ 19.99</td>\n",
       "      <td>2021-12-09 11:35</td>\n",
       "      <td>0985197</td>\n",
       "      <td>001</td>\n",
       "      <td>None</td>\n",
       "      <td>Slim fit</td>\n",
       "      <td>Pocket lining: Cotton 100%</td>\n",
       "      <td>The model is 189cm/6'2\" and wears a size 32/32</td>\n",
       "      <td>NaN</td>\n",
       "    </tr>\n",
       "  </tbody>\n",
       "</table>\n",
       "</div>"
      ],
      "text/plain": [
       "   product_id     product_cat product_name product_price   scrapy_datetime  \\\n",
       "0  0985197001  men_jeans_slim   Slim Jeans       $ 19.99  2021-12-09 11:35   \n",
       "1  0985197001  men_jeans_slim   Slim Jeans       $ 19.99  2021-12-09 11:35   \n",
       "2  0985197001  men_jeans_slim   Slim Jeans       $ 19.99  2021-12-09 11:35   \n",
       "3  0985197001  men_jeans_slim   Slim Jeans       $ 19.99  2021-12-09 11:35   \n",
       "4  0985197001  men_jeans_slim   Slim Jeans       $ 19.99  2021-12-09 11:35   \n",
       "\n",
       "  style_id color_id     color_name       Fit                    Composition  \\\n",
       "0  0985197      001  Midnight blue  Slim fit     Pocket lining: Cotton 100%   \n",
       "1  0985197      001  Midnight blue  Slim fit  Shell: Cotton 98%, Spandex 2%   \n",
       "2  0985197      001           None  Slim fit     Pocket lining: Cotton 100%   \n",
       "3  0985197      001           None  Slim fit  Shell: Cotton 98%, Spandex 2%   \n",
       "4  0985197      001           None  Slim fit     Pocket lining: Cotton 100%   \n",
       "\n",
       "                                             Size More sustainable materials  \n",
       "0  The model is 189cm/6'2\" and wears a size 32/32                        NaN  \n",
       "1  The model is 189cm/6'2\" and wears a size 32/32                        NaN  \n",
       "2  The model is 189cm/6'2\" and wears a size 32/32                        NaN  \n",
       "3  The model is 189cm/6'2\" and wears a size 32/32                        NaN  \n",
       "4  The model is 189cm/6'2\" and wears a size 32/32                        NaN  "
      ]
     },
     "execution_count": 10,
     "metadata": {},
     "output_type": "execute_result"
    }
   ],
   "source": [
    "data_raw.head()"
   ]
  }
 ],
 "metadata": {
  "kernelspec": {
   "display_name": "Python 3 (ipykernel)",
   "language": "python",
   "name": "python3"
  },
  "language_info": {
   "codemirror_mode": {
    "name": "ipython",
    "version": 3
   },
   "file_extension": ".py",
   "mimetype": "text/x-python",
   "name": "python",
   "nbconvert_exporter": "python",
   "pygments_lexer": "ipython3",
   "version": "3.9.7"
  }
 },
 "nbformat": 4,
 "nbformat_minor": 5
}
